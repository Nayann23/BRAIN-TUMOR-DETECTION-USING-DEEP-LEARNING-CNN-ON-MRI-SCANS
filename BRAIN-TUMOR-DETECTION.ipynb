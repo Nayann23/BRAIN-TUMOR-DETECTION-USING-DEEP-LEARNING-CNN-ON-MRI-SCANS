{
 "cells": [
  {
   "cell_type": "code",
   "execution_count": 1,
   "metadata": {},
   "outputs": [],
   "source": [
    "import cv2                     # For image loading & resizing\n",
    "import numpy as np             # For numerical operations (image = array)\n",
    "from sklearn.model_selection import train_test_split  # For splitting dataset into train/test\n",
    "import matplotlib.pyplot as plt  # (Later) for showing image samples & graphs\n",
    "import tensorflow as tf        # For building CNN model (Deep Learning)\n",
    "from tensorflow.keras import layers, models  # CNN layers and model structure\n",
    "import os  # For path management (no explanation needed)\n"
   ]
  },
  {
   "cell_type": "code",
   "execution_count": 2,
   "id": "4be38b17",
   "metadata": {},
   "outputs": [],
   "source": [
    "DATASET_DIR = \"brain_tumor_dataset\"  # 📌 Dataset folder ka path define kiya gaya hai jisme images rakhi hain\n",
    "# ✅ Ham ye kyun likh rahe hain: Taaki hum ek baar mein sabhi images ke base folder ka path set kar saken.\n",
    "# 🤖 Isse kya hoga: Hum easily subfolders (\"yes\", \"no\") tak path join kar sakenge bina baar-baar pura path likhe.\n",
    "# 🧾 Iska matlab kya hai: 'DATASET_DIR' ek variable hai jisme dataset ka main folder path string ke form mein store hai.\n",
    "# 🎯 Analogy: Soch le ki yeh tumhara main locker hai jisme do chhote lockers (yes/no) hain.\n",
    "# ❓ Ham ye kyun likh rahe hain: Taaki folder ka naam centralized rahe, kahin bhi change ho to ek hi jagah change karna pade.\n",
    "# ⚙️ Isse kya hoga: Sabhi image files ko access karna easy hoga using path joining.\n",
    "# 📘 Matlab kya hai: Python mein ek variable banaya gaya hai jisme string format mein folder ka naam rakha gaya hai.\n",
    "\n"
   ]
  },
  {
   "cell_type": "code",
   "execution_count": 3,
   "id": "44ae64de",
   "metadata": {},
   "outputs": [],
   "source": [
    "CATEGORIES = [\"no\", \"yes\"]  # 📌 Datasets ke subfolder names define kiye gaye hain — 'no' means no tumor, 'yes' means tumor\n",
    "# ✅ Ham ye kyun likh rahe hain: Taaki har folder ke images ko ek specific class label de sakein (0 ya 1).\n",
    "# 🤖 Isse kya hoga: Har image ko uski folder ke base par label assign kiya ja sakega.\n",
    "# 🧾 Iska matlab kya hai: 'CATEGORIES' ek list hai jisme class names hain — 0 ke liye 'no', 1 ke liye 'yes'.\n",
    "# 🎯 Analogy: Soch le ki tum do drawer label kar rahe ho: ek \"Healthy\" aur ek \"Tumor\".\n",
    "# ❓ Ham ye kyun likh rahe hain: Taaki hum easily folder ke naam ko label mein convert kar sakein during loop.\n",
    "# ⚙️ Isse kya hoga: Classification model ko train karne ke liye target output (y) banega.\n",
    "# 📘 Matlab kya hai: Python list with two string elements used to define categories of image data.\n"
   ]
  },
  {
   "cell_type": "code",
   "execution_count": 4,
   "id": "574c1bb4",
   "metadata": {},
   "outputs": [],
   "source": [
    "IMG_SIZE = 128  # 📌 Har image ko resize karne ke liye ek standard dimension set kiya gaya hai\n",
    "# ✅ Ham ye kyun likh rahe hain: Deep learning models ko fixed size ke input images chahiye hote hain.\n",
    "# 🤖 Isse kya hoga: Har image same size ka ho jayega (128x128), jo model ke liye compatible format hai.\n",
    "# 🧾 Iska matlab kya hai: IMG_SIZE ek integer variable hai jo width aur height dono ke liye use hoga.\n",
    "# 🎯 Analogy: Soch le jaise har passport photo same size ki hoti hai — model bhi same size ka input chahta hai.\n",
    "# ❓ Ham ye kyun likh rahe hain: Taaki CV2 se resize karte waqt dimensions manually set kar sakein.\n",
    "# ⚙️ Isse kya hoga: Image resize code (cv2.resize) mein easy usage hoga — (IMG_SIZE, IMG_SIZE).\n",
    "# 📘 Matlab kya hai: Python variable IMG_SIZE = 128 banaya gaya, jo har image ka new size represent karta hai.\n"
   ]
  },
  {
   "cell_type": "code",
   "execution_count": 5,
   "id": "e2b1deaa",
   "metadata": {},
   "outputs": [],
   "source": [
    "data = []  # 📌 Empty list banayi gayi hai jisme processed images store hongi\n",
    "# ✅ Ham ye kyun likh rahe hain: Hum images ko resize karke memory mein store karenge.\n",
    "# 🤖 Isse kya hoga: Sabhi images ek jagah (list) mein jama ho jayengi, model mein dene ke liye ready.\n",
    "# 🧾 Iska matlab kya hai: 'data' ek khaali list hai jo baad mein image arrays se bharegi.\n",
    "# 🎯 Analogy: Soch le ki yeh ek khaali basket hai jisme tum processed brain scans dalne wale ho.\n",
    "# ❓ Ham ye kyun likh rahe hain: Taaki hum processed image ko ek variable mein store karke future steps mein use kar saken.\n",
    "# ⚙️ Isse kya hoga: Jab model train karenge to isi list ke images input banenge (X).\n",
    "# 📘 Matlab kya hai: Python ka empty list banaya gaya hai — ismein images ko numerical array ke form mein append karenge.\n"
   ]
  },
  {
   "cell_type": "code",
   "execution_count": 6,
   "id": "f7337161",
   "metadata": {},
   "outputs": [],
   "source": [
    "labels = []  # 📌 Empty list banayi gayi hai jisme har image ka label (0 ya 1) store hoga\n",
    "# ✅ Ham ye kyun likh rahe hain: Har image ke liye ek label (tumor hai ya nahi) rakhna zaroori hai.\n",
    "# 🤖 Isse kya hoga: Jab hum model ko train karenge, to yeh labels output target ki tarah kaam karenge.\n",
    "# 🧾 Iska matlab kya hai: 'labels' ek khaali Python list hai jo image ke category numbers store karegi.\n",
    "# 🎯 Analogy: Soch le ki har image ke liye ek chitthi likhi ja rahi hai jisme likha hai “Tumor” ya “No Tumor”.\n",
    "# ❓ Ham ye kyun likh rahe hain: Taaki model ko bata sakein ki kaunsi image kaunse class se belong karti hai.\n",
    "# ⚙️ Isse kya hoga: Jab hum model ko X (images) denge to uske saath y (labels) bhi denge for supervised learning.\n",
    "# 📘 Matlab kya hai: Python ka list banaya gaya hai jisme integers (0 ya 1) store honge based on folder name.\n"
   ]
  },
  {
   "cell_type": "code",
   "execution_count": 7,
   "id": "a948242b",
   "metadata": {},
   "outputs": [],
   "source": [
    "for category in CATEGORIES:  \n",
    "    # 📌 Har category (i.e. 'no' or 'yes') ke liye loop chalega\n",
    "    # ✅ Ham ye kyun likh rahe hain: Taaki hum dono folders (\"no\" aur \"yes\") ke images ek ek karke process kar saken.\n",
    "    # 🤖 Isse kya hoga: Loop dono folders (tumor aur no tumor) ke liye chalega aur unke images handle honge.\n",
    "    # 🧾 Iska matlab kya hai: 'category' variable mein ek baar 'no', ek baar 'yes' aayega loop ke har round mein.\n",
    "    # 🎯 Analogy: Soch le tum do alag file folders check kar rahe ho — pehle “Healthy”, fir “Tumor”.\n",
    "    # ❓ Ham ye kyun likh rahe hain: Taaki same code use karke har category ke images ko process kar saken.\n",
    "    # ⚙️ Isse kya hoga: Har folder ke andar ke images read honge, resize honge, normalize honge, label assign hoga.\n",
    "    # 📘 Matlab kya hai: Python ka `for` loop use hua hai list (`CATEGORIES`) ke elements pe iterate karne ke liye.\n",
    "\n",
    "    path = os.path.join(DATASET_DIR, category)  \n",
    "    # 📌 Current category folder ka complete path generate kiya gaya hai\n",
    "    # ✅ Ham ye kyun likh rahe hain: Taaki har bar current folder ke andar jaa kar images load kar saken.\n",
    "    # 🤖 Isse kya hoga: Folder ke andar ke images ka path ban jayega — example: brain_tumor_dataset/yes\n",
    "    # 🧾 Iska matlab kya hai: 'path' variable mein folder ka pura path aa raha hai (base folder + category)\n",
    "    # 🎯 Analogy: Jaise ek locker ke andar \"tumor\" ya \"no tumor\" drawer tak pahuchne ke liye address chahiye hota hai.\n",
    "    # ❓ Ham ye kyun likh rahe hain: Taaki `os.listdir()` ya `cv2.imread()` sahi jagah se file load kare.\n",
    "    # ⚙️ Isse kya hoga: Folder ke andar ke sabhi images accessible ho jayenge.\n",
    "    # 📘 Matlab kya hai: `os.path.join()` Python function hai jo folder ke paths ko sahi tarike se jodne ke kaam aata hai.\n",
    "\n",
    "    class_label = CATEGORIES.index(category)  \n",
    "    # 📌 Category ke naam ko numerical label mein convert kiya gaya hai — 'no'→0, 'yes'→1\n",
    "    # ✅ Ham ye kyun likh rahe hain: Model ko numeric labels chahiye, text (yes/no) nahi samajhta.\n",
    "    # 🤖 Isse kya hoga: Tumor aur no tumor images ko 0 aur 1 se represent kiya ja sakega training ke liye.\n",
    "    # 🧾 Iska matlab kya hai: List ke andar 'no' ka index 0 hota hai, 'yes' ka index 1 hota hai.\n",
    "    # 🎯 Analogy: Soch le jaise exam mein \"Pass\" = 1 aur \"Fail\" = 0 likha jaata hai, waise hi yeh mapping ho rahi hai.\n",
    "    # ❓ Ham ye kyun likh rahe hain: Taaki labels numerical form mein ho aur ML model ko samajh aaye.\n",
    "    # ⚙️ Isse kya hoga: Labels list mein correct value append hogi according to image folder.\n",
    "    # 📘 Matlab kya hai: `list.index()` Python ka method hai jo element ka index (position) return karta hai.\n",
    "\n",
    "    for img_name in os.listdir(path):  \n",
    "        # 📌 Folder ke andar jitni bhi image files hain, unpe loop lagaya gaya hai\n",
    "        # ✅ Ham ye kyun likh rahe hain: Taaki har image ko individually load aur process kar saken.\n",
    "        # 🤖 Isse kya hoga: Har image ka naam milega jisko use karke full path banayenge.\n",
    "        # 🧾 Iska matlab kya hai: 'img_name' variable mein ek ek karke sabhi file names aayenge.\n",
    "        # 🎯 Analogy: Jaise ek photo album mein har photo ko alag alag dekhna.\n",
    "        # ❓ Ham ye kyun likh rahe hain: Har image ko individually read karna padta hai processing ke liye.\n",
    "        # ⚙️ Isse kya hoga: Har image ke upar CV2 operations (read, resize, normalize) perform kar paenge.\n",
    "        # 📘 Matlab kya hai: `os.listdir()` ek Python function hai jo folder ke andar ki sabhi files return karta hai.\n",
    "\n",
    "        try:\n",
    "            img_path = os.path.join(path, img_name)  \n",
    "            # 📌 Image file ka full path banaya gaya hai (folder + file name)\n",
    "            # ✅ Ham ye kyun likh rahe hain: Taaki CV2 image file ko read kar sake using absolute path.\n",
    "            # 🤖 Isse kya hoga: Har image ka exact address milega jise read kiya ja sakega.\n",
    "            # 🧾 Iska matlab kya hai: 'img_path' variable mein complete image path store ho gaya.\n",
    "            # 🎯 Analogy: Soch le ek photo ka exact address likhna, jaise building+flat+room.\n",
    "            # ❓ Ham ye kyun likh rahe hain: File read karne ke liye pura path zaroori hota hai.\n",
    "            # ⚙️ Isse kya hoga: CV2 properly image ko load karega bina file not found error ke.\n",
    "            # 📘 Matlab kya hai: Yeh bhi `os.path.join()` ka use hai to join folder + file name.\n",
    "\n",
    "            img = cv2.imread(img_path)  \n",
    "            # 📌 Image ko load kiya gaya hai OpenCV ke through as an array\n",
    "            # ✅ Ham ye kyun likh rahe hain: Image ko computer-readable format mein convert karna padta hai.\n",
    "            # 🤖 Isse kya hoga: Image memory mein ek numpy array ke form mein load ho jayegi.\n",
    "            # 🧾 Iska matlab kya hai: 'img' ek 3D array hai (height, width, RGB channels)\n",
    "            # 🎯 Analogy: Jaise tum photo scan karke usse digital screen par dekh sakte ho.\n",
    "            # ❓ Ham ye kyun likh rahe hain: Taaki image par mathematical operations (resize, normalize) apply kar saken.\n",
    "            # ⚙️ Isse kya hoga: Aage ke steps (resize & normalization) perform karna possible hoga.\n",
    "            # 📘 Matlab kya hai: `cv2.imread()` OpenCV ka method hai jo image ko numpy array mein convert karta hai.\n",
    "\n",
    "            img = cv2.resize(img, (IMG_SIZE, IMG_SIZE))  \n",
    "            # 📌 Image ko 128x128 size mein resize kiya gaya hai\n",
    "            # ✅ Ham ye kyun likh rahe hain: Neural networks ko fixed size ka input chahiye hota hai.\n",
    "            # 🤖 Isse kya hoga: Sabhi images same dimension ki hongi — model training ke liye suitable.\n",
    "            # 🧾 Iska matlab kya hai: 'img' ka size ab (128, 128, 3) hoga — width, height, RGB.\n",
    "            # 🎯 Analogy: Jaise sabhi ID photos same size ke frame mein fit hote hain.\n",
    "            # ❓ Ham ye kyun likh rahe hain: Size mismatch model training mein error de sakta hai.\n",
    "            # ⚙️ Isse kya hoga: Batch-wise training smooth hogi without shape mismatch error.\n",
    "            # 📘 Matlab kya hai: `cv2.resize()` OpenCV ka function hai jo image ka size change karta hai.\n",
    "\n",
    "            img = img / 255.0  \n",
    "            # 📌 Image pixels ko normalize kiya gaya (0-255 → 0-1 range)\n",
    "            # ✅ Ham ye kyun likh rahe hain: Neural networks normalized data par better perform karte hain.\n",
    "            # 🤖 Isse kya hoga: Image values float (0.0 to 1.0) range mein aa jayengi, model ke liye suitable.\n",
    "            # 🧾 Iska matlab kya hai: Har pixel ka value ab (original/255) ho gaya hai.\n",
    "            # 🎯 Analogy: Jaise ek 100 marks ka paper 1.0 scale pe convert karna.\n",
    "            # ❓ Ham ye kyun likh rahe hain: Normalization training stability aur speed badhata hai.\n",
    "            # ⚙️ Isse kya hoga: Gradient descent aur optimization algorithms efficiently kaam karenge.\n",
    "            # 📘 Matlab kya hai: Image array ke sabhi pixel values ko divide by 255 kiya gaya hai.\n",
    "\n",
    "            data.append(img)  \n",
    "            # 📌 Processed image ko 'data' list mein store kiya gaya\n",
    "            # ✅ Ham ye kyun likh rahe hain: Sabhi images ko ek hi list mein store karna hai model input banane ke liye.\n",
    "            # 🤖 Isse kya hoga: Ye list X_train banegi jab hum training/testing data split karenge.\n",
    "            # 🧾 Iska matlab kya hai: List mein ek aur element add ho gaya — ek image ka array.\n",
    "            # 🎯 Analogy: Soch le ki har processed photo ko ek album mein chipka rahe ho.\n",
    "            # ❓ Ham ye kyun likh rahe hain: Taaki sabhi images ek jagah store ho jaye for model training.\n",
    "            # ⚙️ Isse kya hoga: Aage ke step mein array mein convert karke model mein dena easy hoga.\n",
    "            # 📘 Matlab kya hai: Python ka `.append()` method use hua hai list mein element add karne ke liye.\n",
    "\n",
    "            labels.append(class_label)  \n",
    "            # 📌 Corresponding label (0 ya 1) ko 'labels' list mein store kiya gaya\n",
    "            # ✅ Ham ye kyun likh rahe hain: Har image ke corresponding uska label bhi store karna zaroori hai.\n",
    "            # 🤖 Isse kya hoga: Jab model train karenge to input ke saath correct output bhi milega.\n",
    "            # 🧾 Iska matlab kya hai: Labels list mein ek aur value (0 ya 1) add ho gaya.\n",
    "            # 🎯 Analogy: Jaise har photo ke neeche ek tag chipka rahe ho — \"Tumor\" ya \"No Tumor\".\n",
    "            # ❓ Ham ye kyun likh rahe hain: Label ke bina model ko pata nahi chalega ki image kis class ki hai.\n",
    "            # ⚙️ Isse kya hoga: Supervised learning ke liye (X and y) dono ready ho jayenge.\n",
    "            # 📘 Matlab kya hai: Python ka `.append()` function label list mein ek value add karta hai.\n",
    "\n",
    "        except Exception as e:\n",
    "            print(f\"Error loading image {img_name}: {e}\")  \n",
    "            # 📌 Agar koi image read/process nahi ho rahi ho to error print kiya jayega\n",
    "            # ✅ Ham ye kyun likh rahe hain: Kuch corrupt ya invalid images ho sakti hain — program crash na ho.\n",
    "            # 🤖 Isse kya hoga: Program continue rahega, faulty image skip ho jayegi.\n",
    "            # 🧾 Iska matlab kya hai: Try block ke error ko catch karke user ko message diya gaya.\n",
    "            # 🎯 Analogy: Jaise ek kharab photo ko dekh kar aage badh jaate ho, bina ruke.\n",
    "            # ❓ Ham ye kyun likh rahe hain: Robust code likhna zaroori hota hai jab hum real-world data handle kar rahe ho.\n",
    "            # ⚙️ Isse kya hoga: Data loading process crash nahi karega, smoothly chalti rahegi.\n",
    "            # 📘 Matlab kya hai: Python ka try-except block error handling ke liye use kiya ja raha hai.\n"
   ]
  },
  {
   "cell_type": "code",
   "execution_count": 8,
   "id": "80c24450",
   "metadata": {},
   "outputs": [],
   "source": [
    "data = np.array(data)  \n",
    "# 📌 Sabhi processed images ki list ko NumPy array mein convert kiya gaya hai\n",
    "# ✅ Ham ye kyun likh rahe hain: ML models NumPy arrays ke saath kaam karte hain, lists ke saath nahi.\n",
    "# 🤖 Isse kya hoga: Images ka data ek single 4D array (samples, width, height, channels) mein convert ho jayega.\n",
    "# 🧾 Iska matlab kya hai: data ab ek NumPy array ban gaya hai jismein shape something like (N, 128, 128, 3) hoga.\n",
    "# 🎯 Analogy: Soch le ki sabhi ID photos ko ek digital stack mein convert kar diya — ek photo book jaisa.\n",
    "# ❓ Ham ye kyun likh rahe hain: Taaki training ke time shape & format model ke liye compatible ho.\n",
    "# ⚙️ Isse kya hoga: Array slicing, batching aur model training efficient ho jayegi.\n",
    "# 📘 Matlab kya hai: `np.array()` NumPy ka function hai jo Python list ko high-performance array mein convert karta hai.\n",
    "\n",
    "labels = np.array(labels)  \n",
    "# 📌 Labels (0 = No Tumor, 1 = Tumor) ko bhi NumPy array mein convert kiya gaya\n",
    "# ✅ Ham ye kyun likh rahe hain: Labels bhi NumPy array hone chahiye taaki model ko fit kar sakein.\n",
    "# 🤖 Isse kya hoga: Labels aur images ka alignment bana rahega — dono same indexing pe rahenge.\n",
    "# 🧾 Iska matlab kya hai: labels ab ek 1D NumPy array hai jismein har element 0 ya 1 hai.\n",
    "# 🎯 Analogy: Soch le ki har photo ke neeche ek neatly written label chipka diya gaya.\n",
    "# ❓ Ham ye kyun likh rahe hain: Model ko y_train aur y_test NumPy array form mein hi chahiye hota hai.\n",
    "# ⚙️ Isse kya hoga: Training time pe loss calculation, accuracy measure karna possible ho jayega.\n",
    "# 📘 Matlab kya hai: Simple list ko NumPy array mein convert kar diya gaya for ML compatibility.\n",
    "\n",
    "X_train, X_test, y_train, y_test = train_test_split(data, labels, test_size=0.2, random_state=42)  \n",
    "# 📌 Data ko training aur testing mein 80/20 ke ratio mein split kiya gaya\n",
    "# ✅ Ham ye kyun likh rahe hain: Model ko train karne ke liye ek data part chahiye aur test karne ke liye alag.\n",
    "# 🤖 Isse kya hoga: 80% images model training ke liye use hongi, 20% unseen data par accuracy test hogi.\n",
    "# 🧾 Iska matlab kya hai: X_train, y_train → model training ke liye; X_test, y_test → model validation ke liye.\n",
    "# 🎯 Analogy: Soch le 100 photos mein se 80 practice ke liye aur 20 exam ke liye alag kar diye.\n",
    "# ❓ Ham ye kyun likh rahe hain: Taaki hum dekh saken ki model real-world unseen data pe kaise perform karega.\n",
    "# ⚙️ Isse kya hoga: Overfitting se bacha ja sakta hai aur generalization measure kiya ja sakta hai.\n",
    "# 📘 Matlab kya hai: `train_test_split()` scikit-learn ka function hai jo data ko randomly split karta hai.\n"
   ]
  },
  {
   "cell_type": "code",
   "execution_count": 9,
   "id": "2772c661",
   "metadata": {},
   "outputs": [
    {
     "name": "stdout",
     "output_type": "stream",
     "text": [
      "✅ Data loaded and split successfully!\n",
      "Training samples: 202\n",
      "Testing samples: 51\n"
     ]
    }
   ],
   "source": [
    "print(\"✅ Data loaded and split successfully!\")  \n",
    "# 📌 Simple confirmation message diya gaya hai\n",
    "# ✅ Ham ye kyun likh rahe hain: Taaki user ko pata chale ki data loading & splitting process complete ho chuki hai.\n",
    "# 🤖 Isse kya hoga: Console pe message aayega — koi error nahi aaya to success.\n",
    "# 🎯 Analogy: Jaise chef cooking complete hone ke baad \"Done!\" bolta hai.\n",
    "# 📘 Matlab kya hai: `print()` ek built-in Python function hai jo text console pe dikhata hai.\n",
    "\n",
    "print(\"Training samples:\", len(X_train))  \n",
    "print(\"Testing samples:\", len(X_test))  \n",
    "# 📌 Train aur test set mein kitne samples hain, wo print kiya gaya hai\n",
    "# ✅ Ham ye kyun likh rahe hain: Taaki verify kar saken ki 80/20 split sahi hua ya nahi.\n",
    "# 🤖 Isse kya hoga: Tumhe exact count pata chalega ki kitni images training mein ja rahi hain aur kitni testing mein.\n",
    "# 🎯 Analogy: Jaise exam room mein bolte ho: “50 students exam de rahe hain”.\n",
    "# 📘 Matlab kya hai: `len()` Python ka function hai jo kisi list/array ke elements count karta hai.\n"
   ]
  },
  {
   "cell_type": "code",
   "execution_count": 10,
   "id": "6d2f6f24",
   "metadata": {},
   "outputs": [],
   "source": [
    "from tensorflow.keras.models import Sequential\n",
    "from tensorflow.keras.layers import Conv2D, MaxPooling2D, Flatten, Dense, Dropout\n",
    "\n",
    "# 📌 CNN (Convolutional Neural Network) banane ke liye required layers ko import kiya gaya\n",
    "# ✅ Ham ye kyun likh rahe hain: Tumhara task image classification ka hai — iske liye CNN best hota hai.\n",
    "# 🤖 Isse kya hoga: CNN layers images ke pattern (edges, textures) samajhne mein help karengi.\n",
    "# 🧾 Iska matlab kya hai: TensorFlow se Sequential model aur uske andar use hone wali layers import ho rahi hain.\n",
    "# 🎯 Analogy: Jaise ek ghar banane ke liye bricks, paint, cement chahiye — waise hi model banane ke liye layers.\n",
    "# 📘 Matlab kya hai: Ye sirf tools (layers) import karne ka kaam hai — ab inka use karenge neeche.\n"
   ]
  },
  {
   "cell_type": "code",
   "execution_count": 11,
   "id": "228f6182",
   "metadata": {},
   "outputs": [],
   "source": [
    "model = Sequential()\n",
    "# 📌 Sequential model banaya gaya — ek ke baad ek layers add hongi\n",
    "# ✅ Ham ye kyun likh rahe hain: Sequential model tab use hota hai jab layers ek sequence mein lagani ho.\n",
    "# 🤖 Isse kya hoga: Ek straight-forward CNN model banega jisme layers line-by-line add hongi.\n",
    "# 🧾 Iska matlab kya hai: Model ready hai layers lene ke liye — building blocks add karne ke liye.\n",
    "# 🎯 Analogy: Soch le ki tum ek sandwich bana rahe ho — ek bread ke upar ek ek layer lagate jaoge.\n",
    "# 📘 Matlab kya hai: `Sequential()` TensorFlow ka model type hai jisme layers order mein add hoti hain.\n"
   ]
  },
  {
   "cell_type": "code",
   "execution_count": 12,
   "id": "66db9631",
   "metadata": {},
   "outputs": [
    {
     "name": "stderr",
     "output_type": "stream",
     "text": [
      "c:\\Users\\LENOVO\\AppData\\Local\\Programs\\Python\\Python311\\Lib\\site-packages\\keras\\src\\layers\\convolutional\\base_conv.py:107: UserWarning: Do not pass an `input_shape`/`input_dim` argument to a layer. When using Sequential models, prefer using an `Input(shape)` object as the first layer in the model instead.\n",
      "  super().__init__(activity_regularizer=activity_regularizer, **kwargs)\n"
     ]
    }
   ],
   "source": [
    "model.add(Conv2D(32, (3, 3), activation='relu', input_shape=(128, 128, 3)))\n",
    "# 📌 Pehli Convolutional layer add ki gayi hai — 32 filters of size 3x3\n",
    "# ✅ Ham ye kyun likh rahe hain: Ye layer image ke patterns (jaise edges) detect karegi.\n",
    "# 🤖 Isse kya hoga: Image ke features extract honge — ye model ko samajhne mein madad karega ki kya hai image mein.\n",
    "# 🧾 Iska matlab kya hai: 128x128 RGB image pe 32 filters lagaye ja rahe hain jinke size 3x3 pixels ka hai.\n",
    "# 🎯 Analogy: Soch le microscope se tum image ko dekh rahe ho — aur alag alag angle se zoom karke patterns dekh rahe ho.\n",
    "# 📘 input_shape=(128,128,3) matlab image size 128x128 aur 3 channels (RGB). `relu` activation non-linearity ke liye hoti hai.\n"
   ]
  },
  {
   "cell_type": "code",
   "execution_count": 13,
   "id": "7692aa3d",
   "metadata": {},
   "outputs": [],
   "source": [
    "model.add(MaxPooling2D(pool_size=(2, 2)))\n",
    "# 📌 Pooling layer lagayi gayi — 2x2 ka filter size\n",
    "# ✅ Ham ye kyun likh rahe hain: Convolution ke baad pooling se dimension reduce karte hain.\n",
    "# 🤖 Isse kya hoga: Feature map ka size chhota hoga, model faster aur overfitting se bachega.\n",
    "# 🧾 Iska matlab kya hai: 2x2 window image se max value uthata hai — important features bacha ke baaki ignore karta hai.\n",
    "# 🎯 Analogy: Jaise ek image ko compress karke sirf important part rakhte ho, baaki hata dete ho.\n",
    "# 📘 Matlab kya hai: `MaxPooling2D` downsampling karta hai image ko — feature selection mein help karta hai.\n"
   ]
  },
  {
   "cell_type": "markdown",
   "id": "52b5115e",
   "metadata": {},
   "source": [
    "---"
   ]
  },
  {
   "cell_type": "code",
   "execution_count": 14,
   "id": "92370eb6",
   "metadata": {},
   "outputs": [],
   "source": [
    "model.add(Conv2D(64, (3, 3), activation='relu'))\n",
    "# 📌 Doosri convolutional layer lagayi gayi hai — isme 64 filters hain aur size 3x3 ka hai\n",
    "# ✅ Ham ye kyun likh rahe hain: Jaise jaise layers badhte hain, model complex patterns ko samajhne lagta hai.\n",
    "# 🤖 Isse kya hoga: Ye layer aur bhi deep features nikaalegi jaise shapes, curves, ya unusual patterns.\n",
    "# 🧾 Iska matlab kya hai: Pehle wali layer ke output pe ab 64 naye filters apply ho rahe hain.\n",
    "# 🎯 Analogy: Jaise pehle aankhon se dekha, ab microscope se aur detail mein dekha ja raha hai.\n",
    "# 📘 Matlab kya hai: 3x3 filters se image ko scan kar rahe hain, activation function `relu` use kiya gaya hai.\n"
   ]
  },
  {
   "cell_type": "code",
   "execution_count": 15,
   "id": "93240464",
   "metadata": {},
   "outputs": [],
   "source": [
    "model.add(MaxPooling2D(pool_size=(2, 2)))\n",
    "# 📌 Dusri pooling layer lagayi gayi hai — 2x2 size ka window use hua hai\n",
    "# ✅ Ham ye kyun likh rahe hain: Model ke features aur compressed ho jaayein taaki memory kam lage aur overfitting na ho.\n",
    "# 🤖 Isse kya hoga: Output ka dimension aur kam hoga, lekin important information preserve rahegi.\n",
    "# 🧾 Iska matlab kya hai: 2x2 ke grid mein se sabse badi value ko utha rahe hain har step pe.\n",
    "# 🎯 Analogy: Jaise ek newspaper se sirf headlines nikaal rahe ho — pura article nahi, sirf zaruri part.\n",
    "# 📘 Matlab kya hai: Ye step size reduce karta hai, speed aur accuracy dono improve hoti hai.\n"
   ]
  },
  {
   "cell_type": "markdown",
   "id": "29d5294e",
   "metadata": {},
   "source": [
    "---"
   ]
  },
  {
   "cell_type": "code",
   "execution_count": 16,
   "id": "7d945267",
   "metadata": {},
   "outputs": [],
   "source": [
    "model.add(Conv2D(128, (3, 3), activation='relu'))\n",
    "# 📌 Teesri convolutional layer add ki gayi — is baar 128 filters hain (3x3 size ke)\n",
    "# ✅ Ham ye kyun likh rahe hain: Jaise jaise model deep hota hai, usse complex aur abstract features samajhne hote hain.\n",
    "# 🤖 Isse kya hoga: Model ab aur complex patterns jaise texture, orientation samajh payega.\n",
    "# 🧾 Iska matlab kya hai: 128 alag filters image ke har part ko detail mein analyze karenge.\n",
    "# 🎯 Analogy: Jaise pehle zoom karke dekha, ab microscope ka 10x lens lagake bohot clearly dekh rahe hain.\n",
    "# 📘 Matlab kya hai: `Conv2D` layer features nikalne ke liye use ho rahi hai, `relu` se non-linearity maintain hoti hai.\n"
   ]
  },
  {
   "cell_type": "code",
   "execution_count": 17,
   "id": "de4f08e0",
   "metadata": {},
   "outputs": [],
   "source": [
    "model.add(MaxPooling2D(pool_size=(2, 2)))\n",
    "# 📌 Teesri pooling layer bhi lagayi gayi — 2x2 pool size ke saath\n",
    "# ✅ Ham ye kyun likh rahe hain: High-dimensional features ko compress karke final shape mein lana hota hai.\n",
    "# 🤖 Isse kya hoga: Dimension aur kam ho jayega, processing fast hogi, aur model overfitting se bachega.\n",
    "# 🧾 Iska matlab kya hai: Image ko simplify kar rahe hain but important patterns preserve ho rahe hain.\n",
    "# 🎯 Analogy: Jaise ek photo ka low-res version banaya jaye jisme sirf kaam ka content dikhe.\n",
    "# 📘 Matlab kya hai: `MaxPooling2D` important values ko pick karke spatial size reduce karta hai.\n"
   ]
  },
  {
   "cell_type": "code",
   "execution_count": 18,
   "id": "cfc4f725",
   "metadata": {},
   "outputs": [],
   "source": [
    "model.add(Flatten())\n",
    "# 📌 Output ko flatten kiya gaya — 2D se 1D array mein convert\n",
    "# ✅ Ham ye kyun likh rahe hain: Dense layers ko 1D input chahiye hota hai — isliye reshape zaroori hai.\n",
    "# 🤖 Isse kya hoga: Convolution aur pooling ke baad ke features ek single list mein convert ho jayenge.\n",
    "# 🧾 Iska matlab kya hai: Jo bhi features extract hue hain unko ek seedhi line mein arrange kiya gaya.\n",
    "# 🎯 Analogy: Jaise ek 2D chessboard ko tod ke ek single line mein sab pieces rakh diye jaayein.\n",
    "# 📘 Matlab kya hai: Flatten sirf shape change karta hai — values ko disturb nahi karta.\n"
   ]
  },
  {
   "cell_type": "code",
   "execution_count": 19,
   "id": "a5893669",
   "metadata": {},
   "outputs": [],
   "source": [
    "model.add(Dense(128, activation='relu'))\n",
    "# 📌 Pehli dense layer add ki gayi hai — 128 neurons ke saath\n",
    "# ✅ Ham ye kyun likh rahe hain: Ye neurons decision making ke liye features ko process karenge.\n",
    "# 🤖 Isse kya hoga: Ye layer complex relationships ko samajh kar model ko intelligent banati hai.\n",
    "# 🧾 Iska matlab kya hai: Har neuron input se weight aur bias apply karke ek output generate karega.\n",
    "# 🎯 Analogy: Jaise ek team of experts tumhare input ko analyze karke faisla lene ki koshish kar rahi ho.\n",
    "# 📘 Matlab kya hai: Dense matlab fully connected — har input har neuron se connected hota hai.\n"
   ]
  },
  {
   "cell_type": "code",
   "execution_count": 20,
   "id": "b5b241f8",
   "metadata": {},
   "outputs": [],
   "source": [
    "model.add(Dropout(0.5))\n",
    "# 📌 Dropout layer lagayi gayi — 50% neurons randomly deactivate honge during training\n",
    "# ✅ Ham ye kyun likh rahe hain: Overfitting ko rokne ke liye dropout ek popular regularization technique hai.\n",
    "# 🤖 Isse kya hoga: Model har baar training mein alag path se seekhega — generalization better hoga.\n",
    "# 🧾 Iska matlab kya hai: Training ke dauran kuch neurons ko temporarily ignore kiya jaata hai.\n",
    "# 🎯 Analogy: Jaise ek class mein aadhe students randomly break pe jaate hain — baaki sab independent kaam seekhte hain.\n",
    "# 📘 Matlab kya hai: `Dropout(0.5)` ka matlab 50% neurons training mein use nahi honge randomly.\n"
   ]
  },
  {
   "cell_type": "code",
   "execution_count": 21,
   "id": "2a9c36c5",
   "metadata": {},
   "outputs": [],
   "source": [
    "model.add(Dense(1, activation='sigmoid'))\n",
    "# 📌 Final output layer add ki gayi hai — ek hi neuron hai aur activation sigmoid hai\n",
    "# ✅ Ham ye kyun likh rahe hain: Ye binary classification problem hai (tumor hai ya nahi), isliye 1 output neuron.\n",
    "# 🤖 Isse kya hoga: Model output 0 aur 1 ke beech probability dega — 1 matlab tumor, 0 matlab nahi.\n",
    "# 🧾 Iska matlab kya hai: Final decision yeh layer degi ki image tumor wali hai ya nahi.\n",
    "# 🎯 Analogy: Jaise ek doctor final report banata hai ki patient ko tumor hai ya nahi — wahi kaam yeh layer karegi.\n",
    "# 📘 Matlab kya hai: `sigmoid` activation output ko 0 aur 1 ke beech compress karta hai.\n"
   ]
  },
  {
   "cell_type": "code",
   "execution_count": 22,
   "id": "3bd93106",
   "metadata": {},
   "outputs": [],
   "source": [
    "model.compile(optimizer='adam', loss='binary_crossentropy', metrics=['accuracy'])\n",
    "# 📌 Model ko compile kiya gaya — optimizer, loss function aur metric define ki gayi\n",
    "# ✅ Ham ye kyun likh rahe hain: Compile karna matlab model ko training ke liye ready karna\n",
    "# 🤖 Isse kya hoga: Model samjhega ki kaise seekhna hai (optimizer), kya minimize karna hai (loss), aur kya track karna hai (metric)\n",
    "# 🧾 Iska matlab kya hai: Adam ek adaptive optimizer hai, aur binary crossentropy binary output ke liye best loss hai.\n",
    "# 🎯 Analogy: Jaise ek student ko syllabus, goal aur exam pattern de diya gaya ho — ab woh tayari start karega.\n",
    "# 📘 Matlab kya hai: `adam` fast learning ke liye use hota hai, `binary_crossentropy` do class wale output ke liye hota hai.\n"
   ]
  },
  {
   "cell_type": "code",
   "execution_count": 23,
   "id": "0655df00",
   "metadata": {},
   "outputs": [
    {
     "name": "stdout",
     "output_type": "stream",
     "text": [
      "Epoch 1/10\n",
      "\u001b[1m6/6\u001b[0m \u001b[32m━━━━━━━━━━━━━━━━━━━━\u001b[0m\u001b[37m\u001b[0m \u001b[1m7s\u001b[0m 527ms/step - accuracy: 0.5641 - loss: 0.7419 - val_accuracy: 0.7805 - val_loss: 0.6017\n",
      "Epoch 2/10\n",
      "\u001b[1m6/6\u001b[0m \u001b[32m━━━━━━━━━━━━━━━━━━━━\u001b[0m\u001b[37m\u001b[0m \u001b[1m3s\u001b[0m 536ms/step - accuracy: 0.6780 - loss: 0.6399 - val_accuracy: 0.8049 - val_loss: 0.5469\n",
      "Epoch 3/10\n",
      "\u001b[1m6/6\u001b[0m \u001b[32m━━━━━━━━━━━━━━━━━━━━\u001b[0m\u001b[37m\u001b[0m \u001b[1m4s\u001b[0m 614ms/step - accuracy: 0.7574 - loss: 0.5409 - val_accuracy: 0.8049 - val_loss: 0.4303\n",
      "Epoch 4/10\n",
      "\u001b[1m6/6\u001b[0m \u001b[32m━━━━━━━━━━━━━━━━━━━━\u001b[0m\u001b[37m\u001b[0m \u001b[1m6s\u001b[0m 646ms/step - accuracy: 0.7456 - loss: 0.5657 - val_accuracy: 0.8049 - val_loss: 0.4439\n",
      "Epoch 5/10\n",
      "\u001b[1m6/6\u001b[0m \u001b[32m━━━━━━━━━━━━━━━━━━━━\u001b[0m\u001b[37m\u001b[0m \u001b[1m3s\u001b[0m 505ms/step - accuracy: 0.7506 - loss: 0.5160 - val_accuracy: 0.8537 - val_loss: 0.3982\n",
      "Epoch 6/10\n",
      "\u001b[1m6/6\u001b[0m \u001b[32m━━━━━━━━━━━━━━━━━━━━\u001b[0m\u001b[37m\u001b[0m \u001b[1m5s\u001b[0m 430ms/step - accuracy: 0.7662 - loss: 0.4644 - val_accuracy: 0.8780 - val_loss: 0.3632\n",
      "Epoch 7/10\n",
      "\u001b[1m6/6\u001b[0m \u001b[32m━━━━━━━━━━━━━━━━━━━━\u001b[0m\u001b[37m\u001b[0m \u001b[1m6s\u001b[0m 498ms/step - accuracy: 0.7884 - loss: 0.4654 - val_accuracy: 0.8293 - val_loss: 0.3531\n",
      "Epoch 8/10\n",
      "\u001b[1m6/6\u001b[0m \u001b[32m━━━━━━━━━━━━━━━━━━━━\u001b[0m\u001b[37m\u001b[0m \u001b[1m3s\u001b[0m 534ms/step - accuracy: 0.7977 - loss: 0.4125 - val_accuracy: 0.8780 - val_loss: 0.3365\n",
      "Epoch 9/10\n",
      "\u001b[1m6/6\u001b[0m \u001b[32m━━━━━━━━━━━━━━━━━━━━\u001b[0m\u001b[37m\u001b[0m \u001b[1m4s\u001b[0m 398ms/step - accuracy: 0.8324 - loss: 0.3679 - val_accuracy: 0.8293 - val_loss: 0.3259\n",
      "Epoch 10/10\n",
      "\u001b[1m6/6\u001b[0m \u001b[32m━━━━━━━━━━━━━━━━━━━━\u001b[0m\u001b[37m\u001b[0m \u001b[1m3s\u001b[0m 497ms/step - accuracy: 0.8700 - loss: 0.3219 - val_accuracy: 0.8780 - val_loss: 0.2648\n"
     ]
    }
   ],
   "source": [
    "history = model.fit(X_train, y_train, epochs=10, batch_size=32, validation_split=0.2)\n",
    "# 📌 Model ko train kar rahe hain training data ke upar\n",
    "# ✅ Ham ye kyun likh rahe hain: Ye line model ko sikhne ka kaam deti hai — X aur y se pattern samajhna.\n",
    "# 🤖 Isse kya hoga: Model images aur labels ke beech ka connection samajhkar prediction karna seekhega.\n",
    "# 🧾 Iska matlab kya hai: 10 baar (epochs) data model mein jaayega, ek baar mein 32 images (batch) jayengi, aur 20% data validation ke liye use hoga.\n",
    "# 🎯 Analogy: Jaise ek student 10 din tak roj 32 questions solve karta hai aur apne progress ka 20% test roj deta hai.\n",
    "# 📘 Matlab kya hai: `fit()` method model ko train karta hai, `validation_split=0.2` se training ke 20% data ko test ke liye le raha hai har epoch mein.\n"
   ]
  },
  {
   "cell_type": "code",
   "execution_count": 24,
   "id": "3e9bc0ca",
   "metadata": {},
   "outputs": [
    {
     "name": "stdout",
     "output_type": "stream",
     "text": [
      "\u001b[1m2/2\u001b[0m \u001b[32m━━━━━━━━━━━━━━━━━━━━\u001b[0m\u001b[37m\u001b[0m \u001b[1m0s\u001b[0m 107ms/step - accuracy: 0.8799 - loss: 0.3094\n",
      "✅ Test Accuracy: 0.8824\n",
      "📉 Test Loss: 0.2893\n"
     ]
    }
   ],
   "source": [
    "test_loss, test_accuracy = model.evaluate(X_test, y_test)\n",
    "print(f\"✅ Test Accuracy: {test_accuracy:.4f}\")\n",
    "print(f\"📉 Test Loss: {test_loss:.4f}\")\n",
    "# 📌 Model ko test data ke upar evaluate kiya gaya hai\n",
    "# ✅ Ham ye kyun likh rahe hain: Train ke baad hume dekhna hota hai ki model real data pe kaisa chal raha hai.\n",
    "# 🤖 Isse kya hoga: Accuracy aur loss ke values milengi jo batayengi ki model kitna acha generalize kar raha hai.\n",
    "# 🧾 Iska matlab kya hai: Model ke predictions aur actual labels ke beech kitna difference hai ye check ho raha hai.\n",
    "# 🎯 Analogy: Jaise ek student ne tayari ki, ab uska final exam le rahe ho bina cheating ke — yahi testing hai.\n",
    "# 📘 Matlab kya hai: `evaluate()` function performance metrics return karta hai (loss, accuracy) based on test data.\n"
   ]
  },
  {
   "cell_type": "code",
   "execution_count": 25,
   "id": "e51404a8",
   "metadata": {},
   "outputs": [
    {
     "name": "stdout",
     "output_type": "stream",
     "text": [
      "\u001b[1m2/2\u001b[0m \u001b[32m━━━━━━━━━━━━━━━━━━━━\u001b[0m\u001b[37m\u001b[0m \u001b[1m1s\u001b[0m 335ms/step\n"
     ]
    }
   ],
   "source": [
    "import matplotlib.pyplot as plt\n",
    "from sklearn.metrics import classification_report, confusion_matrix\n",
    "import seaborn as sns\n",
    "\n",
    "# 📌 Test data par prediction kiya gaya\n",
    "y_pred = model.predict(X_test)\n",
    "y_pred_classes = (y_pred > 0.5).astype(\"int32\")\n",
    "# ✅ Ham ye kyun likh rahe hain: Prediction results ko threshold karke 0 ya 1 mein convert kar rahe hain.\n",
    "# 🤖 Isse kya hoga: Probabilities ko actual class labels mein convert karenge — jaise 0 = No Tumor, 1 = Tumor\n",
    "# 🧾 Iska matlab kya hai: Model ka output sigmoid ke wajah se probability hota hai — usko threshold se fix label banate hain.\n",
    "# 🎯 Analogy: Jaise doctor bolta hai \"70% chance hai tumor ka\", par tumhe decision lena hota hai — haan ya na.\n",
    "# 📘 Matlab kya hai: Agar prediction > 0.5 hai to 1 maan lo (yes tumor), warna 0 (no tumor).\n"
   ]
  },
  {
   "cell_type": "code",
   "execution_count": 26,
   "id": "91d383e2",
   "metadata": {},
   "outputs": [
    {
     "name": "stdout",
     "output_type": "stream",
     "text": [
      "📊 Classification Report:\n",
      "               precision    recall  f1-score   support\n",
      "\n",
      "           0       1.00      0.70      0.82        20\n",
      "           1       0.84      1.00      0.91        31\n",
      "\n",
      "    accuracy                           0.88        51\n",
      "   macro avg       0.92      0.85      0.87        51\n",
      "weighted avg       0.90      0.88      0.88        51\n",
      "\n"
     ]
    },
    {
     "name": "stderr",
     "output_type": "stream",
     "text": [
      "c:\\Users\\LENOVO\\AppData\\Local\\Programs\\Python\\Python311\\Lib\\site-packages\\IPython\\core\\pylabtools.py:170: UserWarning: Glyph 129504 (\\N{BRAIN}) missing from current font.\n",
      "  fig.canvas.print_figure(bytes_io, **kw)\n"
     ]
    },
    {
     "data": {
      "image/png": "[encoded data removed]",
      "text/plain": [
       "<Figure size 600x400 with 2 Axes>"
      ]
     },
     "metadata": {},
     "output_type": "display_data"
    }
   ],
   "source": [
    "# 📌 Confusion matrix aur classification report print kiya gaya\n",
    "print(\"📊 Classification Report:\\n\", classification_report(y_test, y_pred_classes))\n",
    "\n",
    "cm = confusion_matrix(y_test, y_pred_classes)\n",
    "plt.figure(figsize=(6,4))\n",
    "sns.heatmap(cm, annot=True, fmt=\"d\", cmap=\"Blues\", xticklabels=[\"No Tumor\", \"Tumor\"], yticklabels=[\"No Tumor\", \"Tumor\"])\n",
    "plt.xlabel(\"Predicted Label\")\n",
    "plt.ylabel(\"True Label\")\n",
    "plt.title(\"🧠 Brain Tumor Detection - Confusion Matrix\")\n",
    "plt.show()\n",
    "# ✅ Ham ye kyun likh rahe hain: Yeh graph aur metrics batayenge ki model kaha sahi aur kaha galat tha.\n",
    "# 🤖 Isse kya hoga: Tum easily dekh sakte ho kitne tumor detect huye sahi se aur kitne galat predict hue.\n",
    "# 🧾 Iska matlab kya hai: Confusion matrix show karta hai TP, TN, FP, FN — jo medical cases mein important hai.\n",
    "# 🎯 Analogy: Jaise exam ke result mein dekhna ki tumne kaunse questions sahi kiye aur kaunse galat.\n",
    "# 📘 Matlab kya hai: `classification_report` precision, recall, f1-score deta hai; `confusion_matrix` overall prediction summary deta hai.\n"
   ]
  },
  {
   "cell_type": "markdown",
   "id": "055a986b",
   "metadata": {},
   "source": [
    "---"
   ]
  },
  {
   "cell_type": "code",
   "execution_count": 27,
   "id": "6645f84b",
   "metadata": {},
   "outputs": [],
   "source": [
    "def predict_brain_tumor(image_path):\n",
    "    img = cv2.imread(image_path)\n",
    "    img = cv2.resize(img, (128, 128))  # 🧠 Same size as training images\n",
    "    img = img / 255.0  # Normalize\n",
    "    img = np.expand_dims(img, axis=0)  # 📦 Model expects 4D input: (1, 128, 128, 3)\n",
    "\n",
    "    prediction = model.predict(img)[0][0]  # 🧪 Get probability\n",
    "    if prediction > 0.5:\n",
    "        print(\"🧠 Prediction: Tumor Detected (Yes)\")\n",
    "    else:\n",
    "        print(\"🧠 Prediction: No Tumor Detected (No)\")\n",
    "\n",
    "# ✅ Ham ye kyun likh rahe hain: Kisi bhi nayi image ko model se predict karwana hai\n",
    "# 🤖 Isse kya hoga: Tumhare paas koi bhi brain scan ho, bas uska path do aur output mil jaayega\n",
    "# 🎯 Analogy: Jaise ek trained doctor ko new MRI dikhake puchhna — \"Doctor, tumor hai kya?\"\n"
   ]
  },
  {
   "cell_type": "code",
   "execution_count": 28,
   "id": "e674103a",
   "metadata": {},
   "outputs": [
    {
     "name": "stdout",
     "output_type": "stream",
     "text": [
      "\u001b[1m1/1\u001b[0m \u001b[32m━━━━━━━━━━━━━━━━━━━━\u001b[0m\u001b[37m\u001b[0m \u001b[1m0s\u001b[0m 83ms/step\n",
      "🧠 Prediction: No Tumor Detected (No)\n"
     ]
    }
   ],
   "source": [
    "predict_brain_tumor(\"brain_tumor_dataset/no/1no.jpeg\")"
   ]
  }
 ],
 "metadata": {
  "kernelspec": {
   "display_name": "Python 3",
   "language": "python",
   "name": "python3"
  },
  "language_info": {
   "codemirror_mode": {
    "name": "ipython",
    "version": 3
   },
   "file_extension": ".py",
   "mimetype": "text/x-python",
   "name": "python",
   "nbconvert_exporter": "python",
   "pygments_lexer": "ipython3",
   "version": "3.11.0"
  }
 },
 "nbformat": 4,
 "nbformat_minor": 5
}
